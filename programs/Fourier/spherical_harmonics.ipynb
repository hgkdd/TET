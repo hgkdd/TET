{
 "cells": [
  {
   "cell_type": "code",
   "execution_count": 7,
   "id": "future-anxiety",
   "metadata": {},
   "outputs": [
    {
     "data": {
      "application/vnd.jupyter.widget-view+json": {
       "model_id": "39d4ae754ad84c8288ef2353388324d4",
       "version_major": 2,
       "version_minor": 0
      },
      "text/plain": [
       "Canvas(toolbar=Toolbar(toolitems=[('Home', 'Reset original view', 'home', 'home'), ('Back', 'Back to previous …"
      ]
     },
     "metadata": {},
     "output_type": "display_data"
    }
   ],
   "source": [
    "import sys\n",
    "\n",
    "#%matplotlib widget\n",
    "%matplotlib ipympl\n",
    "\n",
    "import matplotlib.pyplot as plt\n",
    "from matplotlib import cm, colors\n",
    "from mpl_toolkits.mplot3d import Axes3D\n",
    "import numpy as np\n",
    "from scipy.special import sph_harm\n",
    "\n",
    "phi = np.linspace(0, 2*np.pi, 360)\n",
    "theta = np.linspace(0, np.pi, 180)\n",
    "phi, theta = np.meshgrid(phi, theta)\n",
    "\n",
    "# The Cartesian coordinates of the unit sphere\n",
    "x = np.sin(theta) * np.cos(phi)\n",
    "y = np.sin(theta) * np.sin(phi)\n",
    "z = np.cos(theta)\n",
    "\n",
    "m, l = 0, 1\n",
    "\n",
    "# Calculate the spherical harmonic Y(l,m) and normalize to [0,1]\n",
    "fcolors = sph_harm(m, l, phi, theta).real   # attention: scipy uses opposite definition of theta and phi roles\n",
    "fmax, fmin = fcolors.max(), fcolors.min()\n",
    "try:\n",
    "    fcolors = (fcolors - fmin)/(fmax - fmin)\n",
    "except:\n",
    "    pass\n",
    "\n",
    "# Set the aspect ratio to 1 so our sphere looks spherical\n",
    "fig = plt.figure(figsize=plt.figaspect(1.))\n",
    "ax = fig.add_subplot(111, projection='3d')\n",
    "ax.plot_surface(x, y, z,  rstride=1, cstride=1, facecolors=cm.seismic(fcolors))\n",
    "# Turn off the axis planes\n",
    "ax.set_axis_off()\n",
    "plt.show()"
   ]
  },
  {
   "cell_type": "code",
   "execution_count": null,
   "id": "acting-letters",
   "metadata": {},
   "outputs": [],
   "source": []
  }
 ],
 "metadata": {
  "kernelspec": {
   "display_name": "Python 3",
   "language": "python",
   "name": "python3"
  },
  "language_info": {
   "codemirror_mode": {
    "name": "ipython",
    "version": 3
   },
   "file_extension": ".py",
   "mimetype": "text/x-python",
   "name": "python",
   "nbconvert_exporter": "python",
   "pygments_lexer": "ipython3",
   "version": "3.9.1"
  }
 },
 "nbformat": 4,
 "nbformat_minor": 5
}
