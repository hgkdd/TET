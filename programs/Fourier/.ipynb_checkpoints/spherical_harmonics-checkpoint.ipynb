{
 "cells": [
  {
   "cell_type": "code",
   "execution_count": null,
   "id": "adjusted-search",
   "metadata": {},
   "outputs": [],
   "source": [
    "import sys\n",
    "\n",
    "#%matplotlib widget\n",
    "%matplotlib ipympl\n",
    "\n",
    "import matplotlib.pyplot as plt\n",
    "from matplotlib import cm, colors\n",
    "from mpl_toolkits.mplot3d import Axes3D\n",
    "import numpy as np\n",
    "from scipy.special import sph_harm\n",
    "\n",
    "phi = np.linspace(0, np.pi, 100)\n",
    "theta = np.linspace(0, 2*np.pi, 100)\n",
    "phi, theta = np.meshgrid(phi, theta)\n",
    "\n",
    "# The Cartesian coordinates of the unit sphere\n",
    "x = np.sin(phi) * np.cos(theta)\n",
    "y = np.sin(phi) * np.sin(theta)\n",
    "z = np.cos(phi)\n",
    "\n",
    "m, l = 2, 3\n",
    "\n",
    "# Calculate the spherical harmonic Y(l,m) and normalize to [0,1]\n",
    "fcolors = sph_harm(m, l, theta, phi).real\n",
    "fmax, fmin = fcolors.max(), fcolors.min()\n",
    "fcolors = (fcolors - fmin)/(fmax - fmin)\n",
    "\n",
    "# Set the aspect ratio to 1 so our sphere looks spherical\n",
    "fig = plt.figure(figsize=plt.figaspect(1.))\n",
    "ax = fig.add_subplot(111, projection='3d')\n",
    "ax.plot_surface(x, y, z,  rstride=1, cstride=1, facecolors=cm.seismic(fcolors))\n",
    "# Turn off the axis planes\n",
    "ax.set_axis_off()\n",
    "plt.show()"
   ]
  }
 ],
 "metadata": {
  "kernelspec": {
   "display_name": "Python 3",
   "language": "python",
   "name": "python3"
  },
  "language_info": {
   "codemirror_mode": {
    "name": "ipython",
    "version": 3
   },
   "file_extension": ".py",
   "mimetype": "text/x-python",
   "name": "python",
   "nbconvert_exporter": "python",
   "pygments_lexer": "ipython3",
   "version": "3.9.1"
  }
 },
 "nbformat": 4,
 "nbformat_minor": 5
}
