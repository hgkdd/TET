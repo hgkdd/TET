{
 "cells": [
  {
   "cell_type": "code",
   "execution_count": 4,
   "metadata": {
    "scrolled": true
   },
   "outputs": [
    {
     "data": {
      "application/vnd.jupyter.widget-view+json": {
       "model_id": "e259afcbffb044418422e28455118c82",
       "version_major": 2,
       "version_minor": 0
      },
      "text/plain": [
       "Canvas(toolbar=Toolbar(toolitems=[('Home', 'Reset original view', 'home', 'home'), ('Back', 'Back to previous …"
      ]
     },
     "metadata": {},
     "output_type": "display_data"
    },
    {
     "data": {
      "application/vnd.jupyter.widget-view+json": {
       "model_id": "b8c7b533512f45889efd8fffc34805b7",
       "version_major": 2,
       "version_minor": 0
      },
      "text/plain": [
       "VBox(children=(HBox(children=(IntSlider(value=0, description='k', max=20, readout=False), Label(value='0.00'))…"
      ]
     },
     "metadata": {},
     "output_type": "display_data"
    }
   ],
   "source": [
    "# based on CH02_SEC01_1_FourierSines by Steven Brunton (http://databookuw.com)\n",
    "\n",
    "import sys\n",
    "\n",
    "#%matplotlib widget\n",
    "%matplotlib ipympl\n",
    "\n",
    "import mpl_interactions.ipyplot as iplt\n",
    "import numpy as np\n",
    "import matplotlib.pyplot as plt\n",
    "from matplotlib.cm import get_cmap\n",
    "\n",
    "plt.rcParams['figure.figsize'] = [8, 8]\n",
    "plt.rcParams.update({'font.size': 18})\n",
    "\n",
    "# Define domain\n",
    "dx = 0.001\n",
    "L = np.pi\n",
    "x = L * np.arange(-1+dx,1+dx,dx)\n",
    "n = len(x)\n",
    "nquart = int(np.floor(n/4))\n",
    "\n",
    "# Define hat function\n",
    "f = np.zeros_like(x)\n",
    "f[nquart:2*nquart] = (4/n)*np.arange(1,nquart+1)\n",
    "f[2*nquart:3*nquart] = np.ones(nquart) - (4/n)*np.arange(0,nquart)\n",
    "\n",
    "# Alternatively: define \"peak\" function\n",
    "#f[int(n/2)-10:int(n/2)+10] = np.ones(20)\n",
    "\n",
    "fig, ax = plt.subplots()\n",
    "ax.plot(x,f,'-',color='k',linewidth=2)\n",
    "plt.ylim([-0.2, 1.1])\n",
    "\n",
    "# Compute Fourier series\n",
    "name = \"Accent\"\n",
    "cmap = get_cmap('tab10')\n",
    "colors = cmap.colors\n",
    "ax.set_prop_cycle(color=colors)\n",
    "\n",
    "def A(k):\n",
    "    return np.sum(f * np.cos(np.pi*(k+1)*x/L)) * dx\n",
    "\n",
    "def B(k):\n",
    "    return np.sum(f * np.sin(np.pi*(k+1)*x/L)) * dx\n",
    "\n",
    "def fF(x, k):\n",
    "    return A(k)*np.cos((k+1)*np.pi*x/L) + B(k)*np.sin((k+1)*np.pi*x/L)\n",
    "\n",
    "\n",
    "A0 = np.sum(f * np.ones_like(x)) * dx\n",
    "fFS = A0/2\n",
    "\n",
    "controls = iplt.plot(x, fF, k=(0, 20, 21))\n",
    "\n",
    "\n",
    "#A = np.zeros(20)\n",
    "#B = np.zeros(20)\n",
    "#for k in range(20):\n",
    "    #fig.savefig('out_{k}'.format(k=k), dpi=300, bbox_inches='tight')\n",
    "    #A[k] = np.sum(f * np.cos(np.pi*(k+1)*x/L)) * dx # Inner product\n",
    "    #B[k] = np.sum(f * np.sin(np.pi*(k+1)*x/L)) * dx\n",
    "#    fFS = fFS + fF(k)\n",
    "#    ax.plot(x,fFS,'-')\n",
    "#fig.savefig('out_{k}'.format(k=k+1), dpi=300, bbox_inches='tight')\n",
    "plt.show()"
   ]
  },
  {
   "cell_type": "code",
   "execution_count": null,
   "metadata": {},
   "outputs": [],
   "source": []
  },
  {
   "cell_type": "code",
   "execution_count": null,
   "metadata": {},
   "outputs": [],
   "source": []
  }
 ],
 "metadata": {
  "kernelspec": {
   "display_name": "Python 3",
   "language": "python",
   "name": "python3"
  },
  "language_info": {
   "codemirror_mode": {
    "name": "ipython",
    "version": 3
   },
   "file_extension": ".py",
   "mimetype": "text/x-python",
   "name": "python",
   "nbconvert_exporter": "python",
   "pygments_lexer": "ipython3",
   "version": "3.9.1"
  }
 },
 "nbformat": 4,
 "nbformat_minor": 2
}
